{
 "cells": [
  {
   "cell_type": "markdown",
   "metadata": {},
   "source": [
    "# Exercises\n",
    "All the following exercises are provided with a potential solution to them. All of the proposed problems can be solved in more than one way, so take the solution provided as a reference that can be improved on.\n",
    "\n",
    "### IGN game reviews dataset\n",
    "\n",
    "\n",
    "1) Print the worst game genre\n",
    "\n",
    "2) How many masterpiece (score_phrase == \"Masterpiece\") game titles were released before April 2001?\n",
    "\n",
    "3) Print the Platform that the editors choose more often (filter out the platforms with less than 100 games released on them)\n",
    "\n",
    "4) Load the dataset and print the names of the unique `platform`s, sorted in descending order by the mean score the received over all games released for them. In case of ties in the mean score, sort by the total number of games released on the platform.\n",
    "\n",
    "5) Find the best awful adventure game (most highly scored with an \"Awful\" score phrase, Adventure genre game). Take into account all variants of Adventure games, i.e. \"Adventure, Platformer', 'Educational, Adventure', etc.\n",
    "\n",
    "6) Plot the mean score of all games released as a function of the year it was released in.\n",
    "\n",
    "7) Plot the probability of a game being an editor's choice as a function of score it was given (bin the score values to make the plot).\n",
    "\n",
    "8) As a follow up of the above exercise, plot the probability of a game being an editor's choice as a function of score but do so for the following platforms: 'PlayStation 4', 'Xbox One' and 'PC'"
   ]
  },
  {
   "cell_type": "code",
   "execution_count": 2,
   "metadata": {},
   "outputs": [],
   "source": [
    "%matplotlib inline\n",
    "\n",
    "import os\n",
    "from matplotlib import pyplot as plt\n",
    "import seaborn as sns\n",
    "import pandas as pd\n",
    "import numpy as np\n",
    "\n",
    "\n",
    "reviews = pd.read_csv(os.path.join(\"..\", \"data\", \"ign.csv\"))"
   ]
  },
  {
   "cell_type": "markdown",
   "metadata": {},
   "source": [
    "__(1)__ Print the worst game genre."
   ]
  },
  {
   "cell_type": "markdown",
   "metadata": {},
   "source": [
    "To do that we can simply group the all the reviews score by genre and then get the minimun element (since all the reviews will be numeric)"
   ]
  },
  {
   "cell_type": "code",
   "execution_count": 6,
   "metadata": {},
   "outputs": [
    {
     "name": "stdout",
     "output_type": "stream",
     "text": [
      "Hunting, Action\n"
     ]
    }
   ],
   "source": [
    "print(reviews.groupby(\"genre\").score.mean().idxmin())"
   ]
  },
  {
   "cell_type": "markdown",
   "metadata": {},
   "source": [
    "__(2)__ How many masterpiece (score_phrase == \"Masterpiece\") game titles were released before April 2001?"
   ]
  },
  {
   "cell_type": "code",
   "execution_count": 24,
   "metadata": {},
   "outputs": [
    {
     "name": "stdout",
     "output_type": "stream",
     "text": [
      "The number of the required games is equal to 171\n"
     ]
    }
   ],
   "source": [
    "datequery = (\"release_year < 2001 or \"\n",
    "           '(release_year == 2001 and '\n",
    "           'release_month < 4)')\n",
    "\n",
    "numero_giochi = len(reviews.query(\"score_phrase == ['Masterpiece'] and \" + datequery).\n",
    "                    title.unique())\n",
    "\n",
    "print(\"The number of the required games is equal to\", numero_giochi)"
   ]
  },
  {
   "cell_type": "markdown",
   "metadata": {},
   "source": [
    "__(3)__ Print the Platform that the editors choose more often (filter out the platforms with less than 100 games released on them)"
   ]
  },
  {
   "cell_type": "code",
   "execution_count": 42,
   "metadata": {},
   "outputs": [
    {
     "name": "stdout",
     "output_type": "stream",
     "text": [
      "PlayStation 4\n"
     ]
    }
   ],
   "source": [
    "print(reviews.\n",
    "      groupby(\"platform\").  \n",
    "      filter(lambda x: len(x) >= 100).            \n",
    "      groupby(\"platform\"). \n",
    "      score.mean().idxmax())\n",
    "\n"
   ]
  },
  {
   "cell_type": "markdown",
   "metadata": {},
   "source": [
    "__(4)__ Load the dataset and print the names of the unique platforms, sorted in descending order by the mean score the received over all games released for them. In case of ties in the mean score, sort by the total number of games released on the platform."
   ]
  },
  {
   "cell_type": "code",
   "execution_count": null,
   "metadata": {},
   "outputs": [],
   "source": []
  }
 ],
 "metadata": {
  "kernelspec": {
   "display_name": "Python 3",
   "language": "python",
   "name": "python3"
  },
  "language_info": {
   "codemirror_mode": {
    "name": "ipython",
    "version": 3
   },
   "file_extension": ".py",
   "mimetype": "text/x-python",
   "name": "python",
   "nbconvert_exporter": "python",
   "pygments_lexer": "ipython3",
   "version": "3.7.2"
  }
 },
 "nbformat": 4,
 "nbformat_minor": 2
}
